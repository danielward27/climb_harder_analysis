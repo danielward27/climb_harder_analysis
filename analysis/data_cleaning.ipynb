{
 "cells": [
  {
   "cell_type": "markdown",
   "metadata": {},
   "source": [
    "### Introduction\n",
    "The survey data is very messy and requires cleaning. A lot of questions were \"open-ended\", and users often formatted their responses differently, for example using different units. This notebook cleans the messy survey data, so that it can be easily analysed (see analysis.ipynb)."
   ]
  },
  {
   "cell_type": "markdown",
   "metadata": {},
   "source": [
    "### Imports\n",
    "All imports are included here:"
   ]
  },
  {
   "cell_type": "code",
   "execution_count": 231,
   "metadata": {},
   "outputs": [],
   "source": [
    "import numpy as np\n",
    "import pandas as pd"
   ]
  },
  {
   "cell_type": "markdown",
   "metadata": {},
   "source": [
    "### Read in data"
   ]
  },
  {
   "cell_type": "code",
   "execution_count": 232,
   "metadata": {},
   "outputs": [],
   "source": [
    "df = pd.read_excel(\"C:/Users/Danie/OneDrive/Documents/jupyter_notebooks/climb_harder_analysis/climbharder_survey.xlsx\")"
   ]
  },
  {
   "cell_type": "markdown",
   "metadata": {},
   "source": [
    "### Data cleaning\n",
    "#### Rename columns"
   ]
  },
  {
   "cell_type": "code",
   "execution_count": 233,
   "metadata": {},
   "outputs": [
    {
     "name": "stdout",
     "output_type": "stream",
     "text": [
      "(537, 35)\n"
     ]
    },
    {
     "data": {
      "text/html": [
       "<div>\n",
       "<style scoped>\n",
       "    .dataframe tbody tr th:only-of-type {\n",
       "        vertical-align: middle;\n",
       "    }\n",
       "\n",
       "    .dataframe tbody tr th {\n",
       "        vertical-align: top;\n",
       "    }\n",
       "\n",
       "    .dataframe thead th {\n",
       "        text-align: right;\n",
       "    }\n",
       "</style>\n",
       "<table border=\"1\" class=\"dataframe\">\n",
       "  <thead>\n",
       "    <tr style=\"text-align: right;\">\n",
       "      <th></th>\n",
       "      <th>timestamp</th>\n",
       "      <th>sex</th>\n",
       "      <th>height_cm</th>\n",
       "      <th>weight_kg</th>\n",
       "      <th>arm_span_cm</th>\n",
       "      <th>climbing_years</th>\n",
       "      <th>indoor_outdoor</th>\n",
       "      <th>max_boulder_grade</th>\n",
       "      <th>max_boulder_grade_last_3_months</th>\n",
       "      <th>consistently_send_boulder_grade</th>\n",
       "      <th>...</th>\n",
       "      <th>endurance_frequency</th>\n",
       "      <th>endurance_style</th>\n",
       "      <th>general_strength_frequency</th>\n",
       "      <th>general_strength_hours</th>\n",
       "      <th>general_strength_style</th>\n",
       "      <th>other_training</th>\n",
       "      <th>max_pull_ups</th>\n",
       "      <th>pull_up_5_rep_max_kg</th>\n",
       "      <th>max_push_ups</th>\n",
       "      <th>max_l_sit_s</th>\n",
       "    </tr>\n",
       "  </thead>\n",
       "  <tbody>\n",
       "    <tr>\n",
       "      <th>0</th>\n",
       "      <td>2017-01-29 20:12:46.268</td>\n",
       "      <td>Male</td>\n",
       "      <td>173</td>\n",
       "      <td>77</td>\n",
       "      <td>178</td>\n",
       "      <td>4.5 - 5 years</td>\n",
       "      <td>Indoor and outdoor climbing</td>\n",
       "      <td>V8</td>\n",
       "      <td>V8</td>\n",
       "      <td>V6</td>\n",
       "      <td>...</td>\n",
       "      <td>1</td>\n",
       "      <td>4x4</td>\n",
       "      <td>3</td>\n",
       "      <td>4</td>\n",
       "      <td>Antagonists, Legs, Core</td>\n",
       "      <td>NaN</td>\n",
       "      <td>15</td>\n",
       "      <td>29kg</td>\n",
       "      <td>40</td>\n",
       "      <td>30</td>\n",
       "    </tr>\n",
       "    <tr>\n",
       "      <th>1</th>\n",
       "      <td>2017-01-29 20:17:26.652</td>\n",
       "      <td>Male</td>\n",
       "      <td>180</td>\n",
       "      <td>81</td>\n",
       "      <td>180</td>\n",
       "      <td>3 - 3.5 years</td>\n",
       "      <td>Indoor Climbing only</td>\n",
       "      <td>V3</td>\n",
       "      <td>V3</td>\n",
       "      <td>V1</td>\n",
       "      <td>...</td>\n",
       "      <td>1</td>\n",
       "      <td>Laps of routes</td>\n",
       "      <td>2</td>\n",
       "      <td>2</td>\n",
       "      <td>Antagonists, Legs, Core, Upper body pulling, U...</td>\n",
       "      <td>Yoga, stretching</td>\n",
       "      <td>11</td>\n",
       "      <td>5kg</td>\n",
       "      <td>24</td>\n",
       "      <td>15sec</td>\n",
       "    </tr>\n",
       "    <tr>\n",
       "      <th>2</th>\n",
       "      <td>2017-01-29 20:28:13.718</td>\n",
       "      <td>Male</td>\n",
       "      <td>178</td>\n",
       "      <td>67</td>\n",
       "      <td>175</td>\n",
       "      <td>.5 - 1 years</td>\n",
       "      <td>Indoor and outdoor climbing</td>\n",
       "      <td>V7</td>\n",
       "      <td>V6</td>\n",
       "      <td>V5</td>\n",
       "      <td>...</td>\n",
       "      <td>2</td>\n",
       "      <td>4x4, ARC, route climbing intervals</td>\n",
       "      <td>3</td>\n",
       "      <td>2</td>\n",
       "      <td>Antagonists, Core, Upper body pulling, Upper b...</td>\n",
       "      <td>soccer</td>\n",
       "      <td>17</td>\n",
       "      <td>20 kg</td>\n",
       "      <td>NaN</td>\n",
       "      <td>NaN</td>\n",
       "    </tr>\n",
       "    <tr>\n",
       "      <th>3</th>\n",
       "      <td>2017-01-29 20:51:08.111</td>\n",
       "      <td>Male</td>\n",
       "      <td>173</td>\n",
       "      <td>70</td>\n",
       "      <td>178</td>\n",
       "      <td>9 - 9.5 years</td>\n",
       "      <td>Indoor and outdoor climbing</td>\n",
       "      <td>V5</td>\n",
       "      <td>V4</td>\n",
       "      <td>V3</td>\n",
       "      <td>...</td>\n",
       "      <td>1</td>\n",
       "      <td>Laps of routes, route climbing intervals</td>\n",
       "      <td>0</td>\n",
       "      <td>0</td>\n",
       "      <td>Antagonists, Legs, Core, No other strength tra...</td>\n",
       "      <td>NaN</td>\n",
       "      <td>8</td>\n",
       "      <td>NaN</td>\n",
       "      <td>30</td>\n",
       "      <td>NaN</td>\n",
       "    </tr>\n",
       "    <tr>\n",
       "      <th>4</th>\n",
       "      <td>2017-01-29 21:03:19.411</td>\n",
       "      <td>Male</td>\n",
       "      <td>184</td>\n",
       "      <td>84</td>\n",
       "      <td>197</td>\n",
       "      <td>6.5 - 7 years</td>\n",
       "      <td>Indoor and outdoor climbing</td>\n",
       "      <td>V10</td>\n",
       "      <td>V10</td>\n",
       "      <td>V7</td>\n",
       "      <td>...</td>\n",
       "      <td>2</td>\n",
       "      <td>4x4, Max moves, threshold intervals</td>\n",
       "      <td>2</td>\n",
       "      <td>1</td>\n",
       "      <td>Core, Upper body pushing</td>\n",
       "      <td>NaN</td>\n",
       "      <td>NaN</td>\n",
       "      <td>NaN</td>\n",
       "      <td>NaN</td>\n",
       "      <td>NaN</td>\n",
       "    </tr>\n",
       "  </tbody>\n",
       "</table>\n",
       "<p>5 rows × 35 columns</p>\n",
       "</div>"
      ],
      "text/plain": [
       "                timestamp   sex height_cm weight_kg arm_span_cm  \\\n",
       "0 2017-01-29 20:12:46.268  Male       173        77         178   \n",
       "1 2017-01-29 20:17:26.652  Male       180        81         180   \n",
       "2 2017-01-29 20:28:13.718  Male       178        67         175   \n",
       "3 2017-01-29 20:51:08.111  Male       173        70         178   \n",
       "4 2017-01-29 21:03:19.411  Male       184        84         197   \n",
       "\n",
       "  climbing_years               indoor_outdoor max_boulder_grade  \\\n",
       "0  4.5 - 5 years  Indoor and outdoor climbing                V8   \n",
       "1  3 - 3.5 years         Indoor Climbing only                V3   \n",
       "2   .5 - 1 years  Indoor and outdoor climbing                V7   \n",
       "3  9 - 9.5 years  Indoor and outdoor climbing                V5   \n",
       "4  6.5 - 7 years  Indoor and outdoor climbing               V10   \n",
       "\n",
       "  max_boulder_grade_last_3_months consistently_send_boulder_grade  ...  \\\n",
       "0                              V8                              V6  ...   \n",
       "1                              V3                              V1  ...   \n",
       "2                              V6                              V5  ...   \n",
       "3                              V4                              V3  ...   \n",
       "4                             V10                              V7  ...   \n",
       "\n",
       "  endurance_frequency                           endurance_style  \\\n",
       "0                   1                                       4x4   \n",
       "1                   1                            Laps of routes   \n",
       "2                   2        4x4, ARC, route climbing intervals   \n",
       "3                   1  Laps of routes, route climbing intervals   \n",
       "4                   2       4x4, Max moves, threshold intervals   \n",
       "\n",
       "  general_strength_frequency  general_strength_hours  \\\n",
       "0                          3                       4   \n",
       "1                          2                       2   \n",
       "2                          3                       2   \n",
       "3                          0                       0   \n",
       "4                          2                       1   \n",
       "\n",
       "                              general_strength_style    other_training  \\\n",
       "0                            Antagonists, Legs, Core               NaN   \n",
       "1  Antagonists, Legs, Core, Upper body pulling, U...  Yoga, stretching   \n",
       "2  Antagonists, Core, Upper body pulling, Upper b...            soccer   \n",
       "3  Antagonists, Legs, Core, No other strength tra...               NaN   \n",
       "4                           Core, Upper body pushing               NaN   \n",
       "\n",
       "   max_pull_ups pull_up_5_rep_max_kg max_push_ups max_l_sit_s  \n",
       "0            15                 29kg           40          30  \n",
       "1            11                  5kg           24       15sec  \n",
       "2            17                20 kg          NaN         NaN  \n",
       "3             8                  NaN           30         NaN  \n",
       "4           NaN                  NaN          NaN         NaN  \n",
       "\n",
       "[5 rows x 35 columns]"
      ]
     },
     "execution_count": 233,
     "metadata": {},
     "output_type": "execute_result"
    }
   ],
   "source": [
    "colname_dict = {\n",
    "    \"Timestamp\": \"timestamp\",\n",
    "    \"Sex\": \"sex\",\n",
    "    \"Height (cm)\": \"height_cm\",\n",
    "    \"Weight (KG)\": \"weight_kg\",\n",
    "    \"Arm Span (cm)\": \"arm_span_cm\",\n",
    "    \"How long have you been climbing for?\": \"climbing_years\",\n",
    "    \"Where do you climb?\": \"indoor_outdoor\",\n",
    "    \"Hardest V Grade ever climbed \": \"max_boulder_grade\",\n",
    "    \"Hardest V Grade climbed in the Last 3 months\": \"max_boulder_grade_last_3_months\",\n",
    "    \"The V grade you can send 90-100% of routes \": \"consistently_send_boulder_grade\",\n",
    "    \"Hardest Route grade climbed (Ewbank grade) \": \"max_route_grade\",\n",
    "    \"Hardest route climbed last 3 months (ewbank)\": \"max_route_grade_last_3_months\",\n",
    "    \"Route grade you can send 90-100% of climbs\": \"consistently_send_route_grade\",\n",
    "    \"Frequency of climbing sessions per week\": \"climbing_frequency\",\n",
    "    \"Average hours climbing per week (not including training)\": \"climbing_hours\",\n",
    "    \"Average hours Training for climbing per week \": \"training_hours\",\n",
    "    \"Hangboard Frequency per week \": \"hangboard_frequency\",\n",
    "    \"Hangboard grips used \": \"hangboard_grips_trained\",\n",
    "    \"Style of Hangboarding chosen \": \"hangboarding_style\",\n",
    "    \"Max Weight hangboard 18mm edge - Half crimp (KG)  (10 seconds) (added weight only)\": \"max_18_mm_hang_half_crimp_kg\",\n",
    "    \"Max Weight hangboard 18mm edge - open crimp (KG) (10 seconds)  (added weight only)\": \"max_18_mm_hang_open_crimp_kg\",\n",
    "    \"Min Edge used (mm, +kg if weight added ) - Half Crimp (10 seconds)\": \"min_edge_half_crimp_mm\",\n",
    "    \"Min Edge used (mm, +kg if weight added) - Open crimp (10 seconds) \": \"min_edge_open_crimp_mm\",\n",
    "    \"Campus Board frequency per week \": \"campus_frequency\",\n",
    "    \"Campus Board time per week (hours)\": \"campus_hours\",\n",
    "    \"Frequency of Endurance training sesions per week\": \"endurance_frequency\",\n",
    "    \"Endurance training \": \"endurance_style\",\n",
    "    \"General Strength Training frequency per week \": \"general_strength_frequency\",\n",
    "    \"Time spent General strength training (hours)\": \"general_strength_hours\",\n",
    "    \"Type of Strength training\": \"general_strength_style\",\n",
    "    \"Other activities (ie yoga, cardio)\": \"other_training\",\n",
    "    \"Max pull up reps\": \"max_pull_ups\",\n",
    "    \"5 rep max weighted pull ups\": \"pull_up_5_rep_max_kg\",\n",
    "    \"max push ups reps\": \"max_push_ups\",\n",
    "    \"max L-sit time \": \"max_l_sit_s\",\n",
    "}\n",
    "\n",
    "df = df.rename(columns = colname_dict)\n",
    "print(df.shape)\n",
    "df.head()"
   ]
  },
  {
   "cell_type": "markdown",
   "metadata": {},
   "source": [
    "### NAs"
   ]
  },
  {
   "cell_type": "code",
   "execution_count": 234,
   "metadata": {},
   "outputs": [
    {
     "data": {
      "text/plain": [
       "arm_span_cm                       3\n",
       "max_18_mm_hang_half_crimp_kg    347\n",
       "max_18_mm_hang_open_crimp_kg    382\n",
       "min_edge_half_crimp_mm          388\n",
       "min_edge_open_crimp_mm          413\n",
       "endurance_style                  19\n",
       "other_training                  260\n",
       "max_pull_ups                    110\n",
       "pull_up_5_rep_max_kg            256\n",
       "max_push_ups                    191\n",
       "max_l_sit_s                     322\n",
       "dtype: int64"
      ]
     },
     "execution_count": 234,
     "metadata": {},
     "output_type": "execute_result"
    }
   ],
   "source": [
    "na_values = df.isna().sum()\n",
    "na_values[na_values>0]"
   ]
  },
  {
   "cell_type": "markdown",
   "metadata": {},
   "source": [
    "There is a lot of NAs in some of the columns. As I am mostly interested in inferring strength from training strategies, I don't mind droping the measurements of climbing specific strength. I will keep max pull ups however, as it is commonly disputed how important pull up strength is in climbing so I will investigate this."
   ]
  },
  {
   "cell_type": "code",
   "execution_count": 235,
   "metadata": {},
   "outputs": [
    {
     "data": {
      "text/plain": [
       "arm_span_cm          3\n",
       "endurance_style     19\n",
       "other_training     260\n",
       "max_pull_ups       110\n",
       "dtype: int64"
      ]
     },
     "execution_count": 235,
     "metadata": {},
     "output_type": "execute_result"
    }
   ],
   "source": [
    "df = df.drop(columns=[\"max_18_mm_hang_half_crimp_kg\", \"max_18_mm_hang_open_crimp_kg\", \"min_edge_half_crimp_mm\",\n",
    "                      \"min_edge_open_crimp_mm\", \"pull_up_5_rep_max_kg\", \"max_push_ups\", \"max_l_sit_s\"])\n",
    "na_values = df.isna().sum()\n",
    "na_values[na_values>0]"
   ]
  },
  {
   "cell_type": "markdown",
   "metadata": {},
   "source": [
    "### Typos and inconsistent formatting"
   ]
  },
  {
   "cell_type": "markdown",
   "metadata": {},
   "source": [
    "For the columns we expect to be numeric we can identify typos and inconsistent formatting by looking at cases where the entries are not numeric:"
   ]
  },
  {
   "cell_type": "code",
   "execution_count": 236,
   "metadata": {},
   "outputs": [],
   "source": [
    "incorrect_entries = {\"height_cm\": None, \"weight_kg\": None, \"arm_span_cm\": None,\n",
    "                     \"endurance_frequency\": None, \"general_strength_frequency\": None,\n",
    "                     \"max_pull_ups\": None}\n",
    "\n",
    "for key in incorrect_entries:\n",
    "    col_series = numeric_df[key].astype(str)\n",
    "    non_numeric = col_series[col_series.str.replace(\".\", \"\").str.isnumeric() == False]  # Replace avoids entries with decimals being identified as non-numeric\n",
    "    incorrect_entries[key] = non_numeric"
   ]
  },
  {
   "cell_type": "markdown",
   "metadata": {},
   "source": [
    "Values that need changing in these columns can now be accesed using the incorrect_entries dictionary:"
   ]
  },
  {
   "cell_type": "code",
   "execution_count": 237,
   "metadata": {},
   "outputs": [
    {
     "data": {
      "text/plain": [
       "192                                                167cm\n",
       "209    5 ft 8inches. Im amurican i dont know what cen...\n",
       "251                                               173 cm\n",
       "Name: height_cm, dtype: object"
      ]
     },
     "execution_count": 237,
     "metadata": {},
     "output_type": "execute_result"
    }
   ],
   "source": [
    "incorrect_entries[\"height_cm\"]"
   ]
  },
  {
   "cell_type": "markdown",
   "metadata": {},
   "source": [
    "#### Replacing typos, and forcing consistent formatting."
   ]
  },
  {
   "cell_type": "code",
   "execution_count": 238,
   "metadata": {},
   "outputs": [],
   "source": [
    "assert sorted(df[\"sex\"].unique()) == [\"Female\", \"Male\"] # Check sex only contains 'Female' and 'Male'\n",
    "df[\"sex\"] = df[\"sex\"] == \"Male\"  # Male = 1/True, Female = 0/False\n",
    "\n",
    "# Clean height_cm\n",
    "df[\"height_cm\"] = df[\"height_cm\"].replace(\"5 ft 8inches. Im amurican i dont know what centimeters are\", 173) # Help the confused American.\n",
    "df[\"height_cm\"] = df[\"height_cm\"].replace(\"cm\", \"\", regex = True).astype(str).str.strip()\n",
    "df[\"height_cm\"] = df[\"height_cm\"].astype(float)\n",
    "\n",
    "# Clean weight_kg\n",
    "replacements_dict = {\"135 pounds....so....65 kg?\": 61, \"82,5\": 83, \"51-53...\": 52, \"~55\": 55} # The same confused American\n",
    "df[\"weight_kg\"] = df[\"weight_kg\"].replace(replacements_dict)\n",
    "df[\"weight_kg\"] = df[\"weight_kg\"].replace(\"kg\", \"\", regex = True).astype(str).str.strip()\n",
    "df[\"weight_kg\"] = df[\"weight_kg\"].astype(float)\n",
    "\n",
    "# Clean arm_span_cm\n",
    "replacements_dict = {\"161??\": 161, \"5 ft 10 inches\": 178}\n",
    "df[\"arm_span_cm\"] = df[\"arm_span_cm\"].replace(replacements_dict)\n",
    "df[\"arm_span_cm\"] = df[\"arm_span_cm\"].replace([\"-\", \"Dont know\", \"no idea\", \"?\", \"Not sure\", \"don't know\", # Probably better to use an explicit list rather than extracting using isnumeric() == False,\n",
    "                                             \"unknown\", \"Unknown\", \"???\", \"**\", \"idk\", \"dunno\", \"Don't know\"], np.nan)  # as it\"s better to throw an error than accidentally convert data that could be useful to np.nan.\n",
    "df[\"arm_span_cm\"] = df[\"arm_span_cm\"].replace(\"cm\", \"\", regex = True).astype(str).str.strip()\n",
    "\n",
    "# Clean climbing_years\n",
    "df[\"climbing_years\"] = df[\"climbing_years\"].str.rstrip(\" years\")\n",
    "df[\"climbing_years\"] = df[\"climbing_years\"].replace(\"More than 15\", \"15.25\") # Set >15 to 15.25 (not ideal, but sensible)\n",
    "df[\"climbing_years\"] = df[\"climbing_years\"].apply(lambda x: np.array(x.split(\" - \")).astype(float).mean()) # Lots of categories so makes sense to handle using the midpoint\n",
    "\n",
    "# Strip leading V in V grades and add np.nan for those that don't boulder\n",
    "for col in [\"max_boulder_grade\", \"max_boulder_grade_last_3_months\", \"consistently_send_boulder_grade\"]:\n",
    "    df[col] = df[col].str.lstrip(\"V\")\n",
    "    df[col] = df[col].replace(\"I don't boulder\", np.nan)\n",
    "    df[col] = pd.to_numeric(df[col]).astype(\"Int32\")\n",
    "    \n",
    "# Add np.nan for those that don't route climb\n",
    "for col in [\"max_route_grade\", \"max_route_grade_last_3_months\", \"consistently_send_route_grade\"]:\n",
    "    df[col] = df[col].replace(\"I don't climb routes\", np.nan)\n",
    "    df[col] = pd.to_numeric(df[col]).astype(\"Int32\")\n",
    "    \n",
    "# Deal with messy max pull ups data\n",
    "replacements_dict = {\n",
    "    \">20\": 20, \"12?  I don't work on bodyweight pullups for reps.\": 12,\n",
    "    \"3 x 8\": 8, \"15-20\": 18, \"20?\": 20, \"maybe 5\": 5, \"15?\": 15,\n",
    "    \"5, maybe, not sure\": 5,\"15+\": 15, \"Not sure... probably 12-15?\": 14,\n",
    "    \"approx 25\": 25, \"20+\": 20, \"25ish\": 25, \"8-12\": 10, \"7?? \": 7}\n",
    "\n",
    "df['max_pull_ups'] = df['max_pull_ups'].replace(replacements_dict)\n",
    "df.loc[df['max_pull_ups'].str.isnumeric() == False, 'max_pull_ups'] = np.nan"
   ]
  },
  {
   "cell_type": "markdown",
   "metadata": {},
   "source": [
    "### Extract some basic features\n",
    "A few columns are comma seperated strings of training activities each individual does. We'll make a function to extract this into seperate columns for each activity."
   ]
  },
  {
   "cell_type": "code",
   "execution_count": 239,
   "metadata": {},
   "outputs": [],
   "source": [
    "def comma_sep_to_bool_cols(df, col_to_split, check_string_contains):\n",
    "    \"\"\"Takes column with comma seperated strings, checks the strings for items in check_string_contains list.\n",
    "    converts column into multiple bool columns with colnames extracted from check_string_contains.\"\"\"\n",
    "    col_names_list = [\"trains_{}\".format(i.lower().replace(\" \", \"_\")) for i in check_string_contains]\n",
    "    for colname, string in zip(col_names_list, check_string_contains):\n",
    "        df[colname] = col_to_split.str.contains(string)\n",
    "    df = df.drop(columns=col_to_split.name)\n",
    "    return df"
   ]
  },
  {
   "cell_type": "code",
   "execution_count": 240,
   "metadata": {},
   "outputs": [],
   "source": [
    "# Seperate out csv columns to booleans\n",
    "grip_list = [\"Full Crimp\", \"Half Crimp\", \"Open Crimp\", \"Front 3\", \"Back 3\", \"Front 2\", \"Middle 2\", \"Back 2\", \"Slopers\", \"Pinch\", \"Monos\"]\n",
    "df = comma_sep_to_bool_cols(df, df[\"hangboard_grips_trained\"], grip_list)\n",
    "\n",
    "hangboarding_style = [\"Repeaters\", \"Max weight\", \"Min Edge\", \"One arm hang\", 'no hangs', \"Other protocol\"]\n",
    "df = comma_sep_to_bool_cols(df, df['hangboarding_style'], hangboarding_style)\n",
    "\n",
    "df[\"endurance_style\"] = df[\"endurance_style\"].fillna(\"None\") # Assume those that didn't answer did no training\n",
    "endurance_style = [\"Laps of routes\", \"4x4\", \"ARC\", \"systems boards\", \"max moves\", \"route climbing intervals\", \"threshold intervals\"]\n",
    "df = comma_sep_to_bool_cols(df, df[\"endurance_style\"], endurance_style)\n",
    "\n",
    "strength_style = [\"Antagonists\", \"Legs\", \"Core\", \"Upper body pulling\", \"Upper body pushing\"]\n",
    "df = comma_sep_to_bool_cols(df, df[\"general_strength_style\"], strength_style)\n",
    "\n",
    "# Convert indoor_outdoor into two booleans: climbs_indoors and climbs_outdoors\n",
    "df[\"climbs_indoors\"] = (df[\"indoor_outdoor\"] == \"Indoor and outdoor climbing\") | (df[\"indoor_outdoor\"] == \"Indoor Climbing only\")\n",
    "df[\"climbs_outdoors\"] = (df[\"indoor_outdoor\"] == \"Indoor and outdoor climbing\") | (df[\"indoor_outdoor\"] == \"Outdoor Climbing only\")\n",
    "df = df.drop(columns = \"indoor_outdoor\")\n",
    "\n",
    "# Extract whether someone consistently said they bouldered\n",
    "boulders_bool_df = df[[\"max_boulder_grade\", \"max_boulder_grade_last_3_months\", \"consistently_send_boulder_grade\"]].isna()\n",
    "df[\"boulders\"] = boulders_bool_df.all(axis=\"columns\")\n",
    "    \n",
    "# Extract whether someone consistently said they route climbed\n",
    "routes_bool_df = df[[\"max_route_grade\", \"max_route_grade_last_3_months\", \"consistently_send_route_grade\"]].isna()\n",
    "route_climbs = routes_bool_df.all(axis=\"columns\")\n",
    "df[\"route_climbs\"] = route_climbs\n",
    "\n",
    "# other_training had open answers, we'll extract some of the most common ones into cardio and yoga\n",
    "df['other_training'] = df['other_training'].str.lower()\n",
    "df['other_training'] = df['other_training'].fillna(\"None\")  # Assume those that didn't answer did no other activities\n",
    "df['other_training'] = df['other_training'].replace(\"n/a\", \"None\")\n",
    "df['cardio'] = df['other_training'].str.contains(\"cardio|jogging|cycling|running|soccer|mountain biking|bike|badminton\", regex=True, na=False)\n",
    "df['yoga'] = df['other_training'].str.contains(\"yoga|stretch\", regex=True, na=False)\n",
    "df = df.drop(columns = \"other_training\")\n",
    "\n",
    "# Typos and wrong units\n",
    "df[\"height_cm\"] = df[\"height_cm\"].replace({1.67:167, 1.68:168}) # Answered in meters rather than cm.\n",
    "df[\"arm_span_cm\"] = df[\"arm_span_cm\"].astype(float)\n",
    "df[\"height_cm\"] = df[\"height_cm\"].replace(62, df.loc[df['height_cm'] == 62.0, 'arm_span_cm']) # Had reasonable arm span to fill data\n",
    "df[\"height_cm\"] = df[\"height_cm\"].replace(1295, df[\"height_cm\"].mean()) # Not sure what units this person was using. We'll fill the height with the mean.\n",
    "df[\"arm_span_cm\"] = df[\"arm_span_cm\"].replace(1.68, 168) # Answered in meters\n",
    "\n",
    "# Some people clearly measured arm span wrong (perhaps measuring one arm)\n",
    "bool_list = abs(df[\"height_cm\"].astype(float) - df[\"arm_span_cm\"].astype(float)) > 50\n",
    "df.loc[bool_list, \"arm_span_cm\"] = np.nan\n",
    "\n",
    "# Some people definitely measured weight in pounds unfortunately. We'll try and correct for this.\n",
    "df[\"weight_kg\"] = df[\"weight_kg\"].apply(lambda x: x if x <120 else x / 2.20462)\n",
    "\n",
    "# Not interested in following variables, I want to predict max bouldering ability from training strategy, height and sex etc. factors.\n",
    "df = df.drop(columns= [\"timestamp\", \"max_route_grade\", \"max_route_grade_last_3_months\", \"consistently_send_route_grade\",\n",
    "                       \"max_boulder_grade_last_3_months\", \"consistently_send_boulder_grade\"])\n",
    "\n",
    "# Convert hours per week into hours per session\n",
    "hours_cols = [\"climbing_hours\", \"general_strength_hours\", \"campus_hours\"]\n",
    "freq_cols = [\"climbing_frequency\", \"general_strength_frequency\", \"campus_frequency\"]  \n",
    "new_cols = [\"climbing_session_length\", \"general_strength_session_length\", \"campus_session_length\"]\n",
    "\n",
    "for hour_col, freq_col, new_col in zip(hours_cols, freq_cols, new_cols):\n",
    "    df[new_col] = (df[hour_col]/df[freq_col]).fillna(0)\n",
    "    df[new_col] = df[new_col].replace(np.inf, np.nan)\n",
    "df = df.drop(columns=hours_cols)\n",
    "    \n",
    "# Move max boulder grade (what we want to predict) to the end\n",
    "max_boulder_grade = df.pop(\"max_boulder_grade\") # remove column b and store it in df1\n",
    "df[\"max_boulder_grade\"] = max_boulder_grade"
   ]
  },
  {
   "cell_type": "code",
   "execution_count": 241,
   "metadata": {},
   "outputs": [
    {
     "name": "stdout",
     "output_type": "stream",
     "text": [
      "Dataframe shape: (537, 51)\n",
      "Na values:\n",
      "arm_span_cm                         33\n",
      "max_pull_ups                       120\n",
      "climbing_session_length              2\n",
      "general_strength_session_length      5\n",
      "campus_session_length                2\n",
      "max_boulder_grade                   17\n",
      "dtype: int64\n"
     ]
    }
   ],
   "source": [
    "na_values = df.isna().sum()\n",
    "print(\"Dataframe shape: {}\".format(df.shape))\n",
    "print(\"Na values:\")\n",
    "print(na_values[na_values>0])"
   ]
  },
  {
   "cell_type": "markdown",
   "metadata": {},
   "source": [
    "We now have a cleaned dataset with the main features of interest in a usable format. There are some missing values but experimenting with how to deal with them will form part of the analysis."
   ]
  },
  {
   "cell_type": "code",
   "execution_count": 242,
   "metadata": {},
   "outputs": [],
   "source": [
    "df.to_csv(\"cleaned_data.csv\", index = False)"
   ]
  }
 ],
 "metadata": {
  "kernelspec": {
   "display_name": "Python 3",
   "language": "python",
   "name": "python3"
  },
  "language_info": {
   "codemirror_mode": {
    "name": "ipython",
    "version": 3
   },
   "file_extension": ".py",
   "mimetype": "text/x-python",
   "name": "python",
   "nbconvert_exporter": "python",
   "pygments_lexer": "ipython3",
   "version": "3.7.3"
  }
 },
 "nbformat": 4,
 "nbformat_minor": 4
}
